{
 "cells": [
  {
   "cell_type": "markdown",
   "metadata": {},
   "source": [
    "# M2177.003100 Deep Learning <br> Assignment #1 Part 2: Implementing Neural Networks from Scratch"
   ]
  },
  {
   "cell_type": "markdown",
   "metadata": {},
   "source": [
    "Copyright (C) Data Science & AI Laboratory, Seoul National University. This material is for educational uses only. Some contents are based on the material provided by other paper/book authors and may be copyrighted by them. "
   ]
  },
  {
   "cell_type": "markdown",
   "metadata": {
    "colab_type": "text",
    "id": "kR-4eNdK6lYS"
   },
   "source": [
    "Previously in `Assignment1-1_Data_Curation.ipynb`, we created a pickle with formatted datasets for training, development and testing on the [notMNIST dataset](http://yaroslavvb.blogspot.com/2011/09/notmnist-dataset.html).\n",
    "\n",
    "The goal of this assignment is to implement a simple 3-layer neural network from scratch. We won't derive all the math that's required, but I will try to give an intuitive explanation of what we are doing and will point to resources to read up on the details.\n",
    "\n",
    "But why implement a Neural Network from scratch at all? Even if you plan on using Neural Network libraries like [PyBrain](http://pybrain.org) in the future, implementing a network from scratch at least once is an extremely valuable exercise. It helps you gain an understanding of how neural networks work, and that is essential to designing effective models.\n",
    "\n",
    "One thing to note is that the code examples here aren't terribly efficient. They are meant to be easy to understand. In an upcoming part of the assignment, we will explore how to write an efficient Neural Network implementation using [TensorFlow](http://tensorflow.org/). \n",
    "\n",
    "**Note**: certain details are missing or ambiguous on purpose, in order to test your knowledge on the related materials. However, if you really feel that something essential is missing and cannot proceed to the next step, then contact the teaching staff with clear description of your problem.\n",
    "\n",
    "### Submitting your work:\n",
    "<font color=red>**DO NOT clear the final outputs**</font> so that TAs can grade both your code and results.  \n",
    "Once you have done **part 1 - 3**, run the *CollectSubmission.sh* script with your **Student number** as input argument. <br>\n",
    "This will produce a compressed file called *[Your student number].tar.gz*. Please submit this file on ETL. &nbsp;&nbsp; (Usage: ./*CollectSubmission.sh* &nbsp; 20\\*\\*-\\*\\*\\*\\*\\*)"
   ]
  },
  {
   "cell_type": "markdown",
   "metadata": {},
   "source": [
    "## Load datasets\n",
    "\n",
    "First reload the data we generated in `Assignment2-1_Data_Curation.ipynb`."
   ]
  },
  {
   "cell_type": "code",
   "execution_count": 1,
   "metadata": {
    "cellView": "both",
    "colab": {
     "autoexec": {
      "startup": false,
      "wait_interval": 0
     }
    },
    "colab_type": "code",
    "id": "JLpLa8Jt7Vu4"
   },
   "outputs": [],
   "source": [
    "# These are all the modules we'll be using later. Make sure you can import them\n",
    "# before proceeding further.\n",
    "from __future__ import print_function\n",
    "import numpy as np\n",
    "import tensorflow as tf\n",
    "from six.moves import cPickle as pickle\n",
    "from six.moves import range\n",
    "import matplotlib\n",
    "import matplotlib.pyplot as plt\n",
    "\n",
    "%matplotlib inline\n"
   ]
  },
  {
   "cell_type": "code",
   "execution_count": 2,
   "metadata": {
    "cellView": "both",
    "colab": {
     "autoexec": {
      "startup": false,
      "wait_interval": 0
     },
     "output_extras": [
      {
       "item_id": 1
      }
     ]
    },
    "colab_type": "code",
    "executionInfo": {
     "elapsed": 19456,
     "status": "ok",
     "timestamp": 1449847956073,
     "user": {
      "color": "",
      "displayName": "",
      "isAnonymous": false,
      "isMe": true,
      "permissionId": "",
      "photoUrl": "",
      "sessionId": "0",
      "userId": ""
     },
     "user_tz": 480
    },
    "id": "y3-cj1bpmuxc",
    "outputId": "0ddb1607-1fc4-4ddb-de28-6c7ab7fb0c33"
   },
   "outputs": [
    {
     "name": "stdout",
     "output_type": "stream",
     "text": [
      "Training set (200000, 28, 28) (200000,)\n",
      "Validation set (10000, 28, 28) (10000,)\n",
      "Test set (10000, 28, 28) (10000,)\n"
     ]
    }
   ],
   "source": [
    "pickle_file = 'data/notMNIST.pickle'\n",
    "\n",
    "with open(pickle_file, 'rb') as f:\n",
    "    save = pickle.load(f)\n",
    "    train_dataset = save['train_dataset']\n",
    "    train_labels = save['train_labels']\n",
    "    valid_dataset = save['valid_dataset']\n",
    "    valid_labels = save['valid_labels']\n",
    "    test_dataset = save['test_dataset']\n",
    "    test_labels = save['test_labels']\n",
    "    del save  # hint to help gc free up memory\n",
    "    print('Training set', train_dataset.shape, train_labels.shape)\n",
    "    print('Validation set', valid_dataset.shape, valid_labels.shape)\n",
    "    print('Test set', test_dataset.shape, test_labels.shape)"
   ]
  },
  {
   "cell_type": "markdown",
   "metadata": {
    "colab_type": "text",
    "id": "L7aHrm6nGDMB"
   },
   "source": [
    "Reformat into a shape that's more adapted to the models we're going to train:\n",
    "- data as a flat matrix,\n",
    "- labels as float 1-hot encodings."
   ]
  },
  {
   "cell_type": "code",
   "execution_count": 4,
   "metadata": {
    "cellView": "both",
    "colab": {
     "autoexec": {
      "startup": false,
      "wait_interval": 0
     },
     "output_extras": [
      {
       "item_id": 1
      }
     ]
    },
    "colab_type": "code",
    "executionInfo": {
     "elapsed": 19723,
     "status": "ok",
     "timestamp": 1449847956364,
     "user": {
      "color": "",
      "displayName": "",
      "isAnonymous": false,
      "isMe": true,
      "permissionId": "",
      "photoUrl": "",
      "sessionId": "0",
      "userId": ""
     },
     "user_tz": 480
    },
    "id": "IRSyYiIIGIzS",
    "outputId": "2ba0fc75-1487-4ace-a562-cf81cae82793"
   },
   "outputs": [
    {
     "name": "stdout",
     "output_type": "stream",
     "text": [
      "Training set (200000, 784) (200000, 10)\n",
      "Validation set (10000, 784) (10000, 10)\n",
      "Test set (10000, 784) (10000, 10)\n"
     ]
    }
   ],
   "source": [
    "image_size = 28\n",
    "num_labels = 10\n",
    "\n",
    "def reformat(dataset, labels):\n",
    "    dataset = dataset.reshape((-1, image_size * image_size)).astype(np.float32)\n",
    "    # Map 0 to [1.0, 0.0, 0.0 ...], 1 to [0.0, 1.0, 0.0 ...]\n",
    "    labels = (np.arange(num_labels) == labels[:,None]).astype(np.float32)\n",
    "    return dataset, labels\n",
    "\n",
    "train_dataset, train_labels = reformat(train_dataset, train_labels)\n",
    "valid_dataset, valid_labels = reformat(valid_dataset, valid_labels)\n",
    "test_dataset, test_labels = reformat(test_dataset, test_labels)\n",
    "print('Training set', train_dataset.shape, train_labels.shape)\n",
    "print('Validation set', valid_dataset.shape, valid_labels.shape)\n",
    "print('Test set', test_dataset.shape, test_labels.shape)"
   ]
  },
  {
   "cell_type": "code",
   "execution_count": 19,
   "metadata": {},
   "outputs": [
    {
     "name": "stdout",
     "output_type": "stream",
     "text": [
      "[0. 0. 0. 0. 1. 0. 0. 0. 0. 0.]\n",
      "[0 1 2 3 4 5 6 7 8 9]\n",
      "[1 2 3]\n",
      "(3,)\n",
      "[[[1]]\n",
      "\n",
      " [[2]]\n",
      "\n",
      " [[3]]]\n",
      "[[False  True False]\n",
      " [False False  True]\n",
      " [False False False]]\n",
      "[[[1]\n",
      "  [2]]\n",
      "\n",
      " [[3]\n",
      "  [4]]\n",
      "\n",
      " [[5]\n",
      "  [6]]]\n"
     ]
    }
   ],
   "source": [
    "#just for checking\n",
    "print(train_labels[0])\n",
    "print(np.arange(num_labels))\n",
    "\n",
    "a = np.array([1,2,3])\n",
    "print(a)\n",
    "print(a.shape)\n",
    "print(a[:,None,None])\n",
    "\n",
    "print(np.arange(3) == a[:,None])\n",
    "\n",
    "b = np.array([[1,2],[3,4],[5,6]])\n",
    "print(b[:,:,None])"
   ]
  },
  {
   "cell_type": "code",
   "execution_count": 20,
   "metadata": {},
   "outputs": [],
   "source": [
    "data_size = 2000\n",
    "train_dataset = train_dataset[0:data_size]\n",
    "train_labels = train_labels[0:data_size]"
   ]
  },
  {
   "cell_type": "markdown",
   "metadata": {},
   "source": [
    "## Training a Neural Network"
   ]
  },
  {
   "cell_type": "markdown",
   "metadata": {},
   "source": [
    "![Sample network](http://d3kbpzbmcynnmx.cloudfront.net/wp-content/uploads/2015/09/nn-from-scratch-3-layer-network-1024x693.png)"
   ]
  },
  {
   "cell_type": "markdown",
   "metadata": {},
   "source": [
    "Let's now build a neural network with one input layer, one hidden layer, and one output layer. The number of nodes in the input layer is determined by the dimensionality of our data, 784. Similarly, the number of nodes in the output layer is determined by the number of classes we have, 10. The input to the network will be the pixel values of the input image and its output will be ten probabilities, ones for each class."
   ]
  },
  {
   "cell_type": "markdown",
   "metadata": {},
   "source": [
    "### How our network makes predictions\n",
    "\n",
    "Our network makes predictions using *forward propagation*, which is just a bunch of matrix multiplications and the application of the activation function(s) we defined above. If $x$ is the 784-dimensional input to our network then we calculate our prediction $\\hat{y}$ (ten-dimensional) as follows:"
   ]
  },
  {
   "cell_type": "markdown",
   "metadata": {},
   "source": [
    "$$\n",
    "\\begin{aligned}\n",
    "z_1 & = xW_1 + b_1 \\\\\n",
    "a_1 & = \\tanh(z_1) \\\\\n",
    "z_2 & = a_1W_2 + b_2 \\\\\n",
    "a_2 & = \\hat{y} = \\mathrm{softmax}(z_2)\n",
    "\\end{aligned}\n",
    "$$"
   ]
  },
  {
   "cell_type": "markdown",
   "metadata": {},
   "source": [
    "$z_i$ is the input of layer $i$ and $a_i$ is the output of layer $i$ after applying the activation function. $W_1, b_1, W_2, b_2$ are  parameters of our network, which we need to learn from our training data. You can think of them as matrices transforming data between layers of the network. Looking at the matrix multiplications above we can figure out the dimensionality of these matrices. If we use 1024 nodes for our hidden layer then $W_1 \\in \\mathbb{R}^{784\\times1024}$, $b_1 \\in \\mathbb{R}^{1024}$, $W_2 \\in \\mathbb{R}^{1024\\times10}$, $b_2 \\in \\mathbb{R}^{10}$. Now you see why we have more parameters if we increase the size of the hidden layer."
   ]
  },
  {
   "cell_type": "markdown",
   "metadata": {},
   "source": [
    "### Learning the Parameters\n",
    "\n",
    "Learning the parameters for our network means finding parameters ($W_1, b_1, W_2, b_2$) that minimize the error on our training data. But how do we define the error? We call the function that measures our error the *loss function*. A common choice with the softmax output is the [cross-entropy loss](https://en.wikipedia.org/wiki/Cross_entropy#Cross-entropy_error_function_and_logistic_regression). If we have $N$ training examples and $C$ classes then the loss for our prediction $\\hat{y}$ with respect to the true labels $y$ is given by:\n",
    "\n",
    "$$\n",
    "\\begin{aligned}\n",
    "L(y,\\hat{y}) = - \\frac{1}{N} \\sum_{n \\in N} \\sum_{i \\in C} y_{n,i} \\log\\hat{y}_{n,i}\n",
    "\\end{aligned}\n",
    "$$\n",
    "\n"
   ]
  },
  {
   "cell_type": "markdown",
   "metadata": {},
   "source": [
    "The formula looks complicated, but all it really does is sum over our training examples and add to the loss if we predicted the incorrect class. So, the further away $y$ (the correct labels) and $\\hat{y}$ (our predictions) are, the greater our loss will be. "
   ]
  },
  {
   "cell_type": "markdown",
   "metadata": {},
   "source": [
    "Remember that our goal is to find the parameters that minimize our loss function. We can use [gradient descent](http://cs231n.github.io/optimization-1/) to find its minimum. I will implement the most vanilla version of gradient descent, also called batch gradient descent with a fixed learning rate. Variations such as SGD (stochastic gradient descent) or minibatch gradient descent typically perform better in practice. So if you are serious you'll want to use one of these, and ideally you would also [decay the learning rate over time](http://cs231n.github.io/neural-networks-3/#anneal).\n",
    "\n",
    "As an input, gradient descent needs the gradients (vector of derivatives) of the loss function with respect to our parameters: $\\frac{\\partial{L}}{\\partial{W_1}}$, $\\frac{\\partial{L}}{\\partial{b_1}}$, $\\frac{\\partial{L}}{\\partial{W_2}}$, $\\frac{\\partial{L}}{\\partial{b_2}}$. To calculate these gradients we use the famous *backpropagation algorithm*, which is a way to efficiently calculate the gradients starting from the output. I won't go into detail how backpropagation works, but there are many excellent explanations ([here](http://colah.github.io/posts/2015-08-Backprop/) or [here](http://cs231n.github.io/optimization-2/)) floating around the web.\n",
    "\n",
    "Applying the backpropagation formula we find the following (trust me on this):"
   ]
  },
  {
   "cell_type": "markdown",
   "metadata": {},
   "source": [
    "$$\n",
    "\\begin{aligned}\n",
    "& \\delta_3 = \\hat{y} - y \\\\\n",
    "& \\delta_2 = (1 - \\tanh^2z_1) \\circ \\delta_3W_2^T \\\\\n",
    "& \\frac{\\partial{L}}{\\partial{W_2}} = a_1^T \\delta_3  \\\\\n",
    "& \\frac{\\partial{L}}{\\partial{b_2}} = \\delta_3\\\\\n",
    "& \\frac{\\partial{L}}{\\partial{W_1}} = x^T \\delta_2\\\\\n",
    "& \\frac{\\partial{L}}{\\partial{b_1}} = \\delta_2 \\\\\n",
    "\\end{aligned}\n",
    "$$"
   ]
  },
  {
   "cell_type": "markdown",
   "metadata": {},
   "source": [
    "## Implementation\n",
    "\n",
    "Now we are ready for our implementation. We start by defining some useful variables and parameters for gradient descent:"
   ]
  },
  {
   "cell_type": "code",
   "execution_count": 21,
   "metadata": {},
   "outputs": [],
   "source": [
    "num_examples = len(train_dataset) # training set size\n",
    "nn_input_dim = 784 # input layer dimensionality\n",
    "nn_output_dim = 10 # output layer dimensionality\n",
    "\n",
    "# Gradient descent parameters (I picked these by hand)\n",
    "epsilon = 0.01 # learning rate for gradient descent\n",
    "reg_lambda = 0.01 # regularization strength"
   ]
  },
  {
   "cell_type": "markdown",
   "metadata": {},
   "source": [
    "### Loss function\n",
    "\n",
    "First let's implement the loss function we defined above. We use this to evaluate how well our model is doing:"
   ]
  },
  {
   "cell_type": "code",
   "execution_count": 22,
   "metadata": {},
   "outputs": [],
   "source": [
    "# Helper function to evaluate the total loss on the dataset\n",
    "def calculate_loss(model):\n",
    "    W1, b1, W2, b2 = model['W1'], model['b1'], model['W2'], model['b2']\n",
    "    # Forward propagation to calculate our predictions\n",
    "    z1 = train_dataset.dot(W1) + b1\n",
    "    a1 = np.tanh(z1)\n",
    "    z2 = a1.dot(W2) + b2\n",
    "    exp_scores = np.exp(z2)\n",
    "    probs = exp_scores / np.sum(exp_scores, axis=1, keepdims=True)\n",
    "    # Calculating the loss\n",
    "    corect_logprobs = -np.log([probs[i,np.nonzero(train_labels)[(1)][i].astype('int64')] for i in range(num_examples)])\n",
    "    data_loss = np.sum(corect_logprobs)\n",
    "    # Add regulatization term to loss (optional)\n",
    "    data_loss += reg_lambda/2 * (np.sum(np.square(W1)) + np.sum(np.square(W2)))\n",
    "    return 1./num_examples * data_loss"
   ]
  },
  {
   "cell_type": "code",
   "execution_count": 64,
   "metadata": {},
   "outputs": [
    {
     "name": "stdout",
     "output_type": "stream",
     "text": [
      "[3 7]\n",
      "[[0.33333333 0.28571429]\n",
      " [1.         0.57142857]]\n",
      "(array([0, 1, 2], dtype=int64), array([0, 2, 1], dtype=int64))\n",
      "1\n",
      "[1 1]\n"
     ]
    }
   ],
   "source": [
    "#practice (ignore it)\n",
    "a = np.array([[1,2],[3,4]])\n",
    "b = np.sum(a, axis = 1, keepdims=False)\n",
    "print(b)\n",
    "print(a/b)\n",
    "\n",
    "c = np.array([[1,0,0],[0,0,1],[0,1,0]])\n",
    "d = np.nonzero(c)\n",
    "print(d)\n",
    "print(d[1][2])\n",
    "print(np.argmax(a, axis = 1))"
   ]
  },
  {
   "cell_type": "markdown",
   "metadata": {},
   "source": [
    "We also implement a helper function to calculate the output of the network. It does forward propagation as defined above and returns the class with the highest probability."
   ]
  },
  {
   "cell_type": "code",
   "execution_count": 23,
   "metadata": {},
   "outputs": [],
   "source": [
    "# Helper function to predict an output (0 or 1)\n",
    "def predict(model, x):\n",
    "    W1, b1, W2, b2 = model['W1'], model['b1'], model['W2'], model['b2']\n",
    "    # Forward propagation\n",
    "    z1 = x.dot(W1) + b1\n",
    "    a1 = np.tanh(z1)\n",
    "    z2 = a1.dot(W2) + b2\n",
    "    exp_scores = np.exp(z2)\n",
    "    probs = exp_scores / np.sum(exp_scores, axis=1, keepdims=True)\n",
    "    return np.argmax(probs, axis=1)"
   ]
  },
  {
   "cell_type": "markdown",
   "metadata": {},
   "source": [
    "## Build model\n",
    "Finally, here comes the function to train our Neural Network. It implements batch gradient descent using the backpropagation derivates we found above"
   ]
  },
  {
   "cell_type": "code",
   "execution_count": 25,
   "metadata": {},
   "outputs": [],
   "source": [
    "# This function learns parameters for the neural network and returns the model.\n",
    "# - nn_hdim: Number of nodes in the hidden layer\n",
    "# - num_passes: Number of passes through the training data for gradient descent\n",
    "# - print_loss: If True, print the loss every 1000 iterations\n",
    "def build_model(nn_hdim, num_passes=20000, print_loss=False):\n",
    "    \n",
    "    # Initialize the parameters to random values. We need to learn these.\n",
    "    np.random.seed(0)\n",
    "    W1 = np.random.randn(nn_input_dim, nn_hdim) / np.sqrt(nn_input_dim)\n",
    "    b1 = np.zeros((1, nn_hdim))\n",
    "    W2 = np.random.randn(nn_hdim, nn_output_dim) / np.sqrt(nn_hdim)\n",
    "    b2 = np.zeros((1, nn_output_dim))\n",
    "\n",
    "    # This is what we return at the end\n",
    "    model = {}\n",
    "    \n",
    "    # Gradient descent. For each batch...\n",
    "    for i in range(0, num_passes):\n",
    "\n",
    "        # Forward propagation\n",
    "        z1 = train_dataset.dot(W1) + b1\n",
    "        a1 = np.tanh(z1)\n",
    "        z2 = a1.dot(W2) + b2\n",
    "        exp_scores = np.exp(z2)\n",
    "        probs = exp_scores / np.sum(exp_scores, axis=1, keepdims=True)\n",
    "\n",
    "        # Backpropagation\n",
    "        delta3 = probs - train_labels\n",
    "        dW2 = (a1.T).dot(delta3)\n",
    "        db2 = np.sum(delta3, axis=0, keepdims=True)\n",
    "        delta2 = delta3.dot(W2.T) * (1 - np.power(a1, 2))\n",
    "        dW1 = np.dot(train_dataset.T, delta2)\n",
    "        db1 = np.sum(delta2, axis=0)\n",
    "\n",
    "        # Add regularization terms (b1 and b2 don't have regularization terms)\n",
    "        dW2 += reg_lambda * W2\n",
    "        dW1 += reg_lambda * W1\n",
    "\n",
    "        # Gradient descent parameter update\n",
    "        W1 += -epsilon * dW1\n",
    "        b1 += -epsilon * db1\n",
    "        W2 += -epsilon * dW2\n",
    "        b2 += -epsilon * db2\n",
    "        \n",
    "        # Assign new parameters to the model\n",
    "        model = { 'W1': W1, 'b1': b1, 'W2': W2, 'b2': b2}\n",
    "        \n",
    "        # Optionally print the loss.\n",
    "        # This is expensive because it uses the whole dataset, so we don't want to do it too often.\n",
    "        if print_loss and i % 1000 == 0:\n",
    "            print(\"Loss after iteration %i: %f\" %(i, calculate_loss(model)))\n",
    "    \n",
    "    return model"
   ]
  },
  {
   "cell_type": "markdown",
   "metadata": {},
   "source": [
    "## A network with a hidden layer of size 10\n",
    "\n",
    "Let's see what happens if we train a network with a hidden layer size of 10. "
   ]
  },
  {
   "cell_type": "code",
   "execution_count": 26,
   "metadata": {
    "scrolled": true
   },
   "outputs": [
    {
     "name": "stdout",
     "output_type": "stream",
     "text": [
      "Loss after iteration 0: 2.705567\n",
      "Loss after iteration 1000: 0.340898\n",
      "Loss after iteration 2000: 0.282018\n",
      "Loss after iteration 3000: 0.271042\n",
      "Loss after iteration 4000: 0.239304\n",
      "Loss after iteration 5000: 0.203041\n",
      "Loss after iteration 6000: 0.234283\n",
      "Loss after iteration 7000: 0.188844\n",
      "Loss after iteration 8000: 0.165259\n",
      "Loss after iteration 9000: 0.182072\n",
      "Loss after iteration 10000: 0.145260\n",
      "Loss after iteration 11000: 0.187554\n",
      "Loss after iteration 12000: 0.217451\n",
      "Loss after iteration 13000: 0.235032\n",
      "Loss after iteration 14000: 0.180589\n",
      "Loss after iteration 15000: 0.175692\n",
      "Loss after iteration 16000: 0.161463\n",
      "Loss after iteration 17000: 0.155373\n",
      "Loss after iteration 18000: 0.148961\n",
      "Loss after iteration 19000: 0.147712\n"
     ]
    }
   ],
   "source": [
    "# Build a model with a 10-dimensional hidden layer\n",
    "model = build_model(10, print_loss=True)"
   ]
  },
  {
   "cell_type": "code",
   "execution_count": 66,
   "metadata": {},
   "outputs": [
    {
     "data": {
      "image/png": "[encoded data removed]",
      "text/plain": [
       "<Figure size 432x288 with 1 Axes>"
      ]
     },
     "metadata": {
      "needs_background": "light"
     },
     "output_type": "display_data"
    }
   ],
   "source": [
    "iterations = np.array([ i for i in range(20)])\n",
    "loss = np.array([2.705567, 0.340898, 0.282018, 0.271042, 0.239304,0.203041, 0.234283, 0.188844, 0.165259, 0.182072, 0.145260, 0.187554, 0.217451, 0.235032, 0.1805889, 0.175692, 0.161463, 0.155373, 0.148961, 0.147712])\n",
    "\n",
    "plt.figure()\n",
    "plt.plot(loss)\n",
    "plt.title('loss over epoch')\n",
    "plt.xlabel('epoch')\n",
    "plt.show()"
   ]
  },
  {
   "cell_type": "markdown",
   "metadata": {},
   "source": [
    "# Varying the hidden layer size\n",
    "\n",
    "In the example above we picked a hidden layer size of 3. Let's now get a sense of how varying the hidden layer size affects the result.\n"
   ]
  },
  {
   "cell_type": "code",
   "execution_count": 68,
   "metadata": {},
   "outputs": [
    {
     "name": "stdout",
     "output_type": "stream",
     "text": [
      "final loss of a model with 50 hidden layer size : 0.025917\n",
      "final loss of a model with 100 hidden layer size : 0.037119\n"
     ]
    }
   ],
   "source": [
    "hidden_layer_dimensions = [50, 100]\n",
    "for i, nn_hdim in enumerate(hidden_layer_dimensions):\n",
    "    model = build_model(nn_hdim)\n",
    "    print(\"final loss of a model with %d hidden layer size : %f\" % (nn_hdim, calculate_loss(model)))"
   ]
  },
  {
   "cell_type": "markdown",
   "metadata": {},
   "source": [
    "We can see that while a hidden layer of low dimensionality nicely capture the general trend of our data, but higher dimensionalities are prone to overfitting. They are \"memorizing\" the data as opposed to fitting the general shape. If we were to evaluate our model on a separate test set (and you should!) the model with a smaller hidden layer size would likely perform better because it generalizes better. We could counteract overfitting with stronger regularization, but picking the a correct size for hidden layer is a much more \"economical\" solution."
   ]
  },
  {
   "cell_type": "markdown",
   "metadata": {},
   "source": [
    "---\n",
    "## Problem 2\n",
    "\n",
    "Implement neural network with a 2-hidden layer to improve your model's validation / test accuracy as much as you can. You just can copy and paste the code above, but since relevant materials can appear on the exam, I strongly recommend you to implement it yourself.\n",
    "\n",
    "Here are some things you can try:\n",
    "\n",
    "1. Instead of batch gradient descent, use minibatch gradient descent ([more info](http://cs231n.github.io/optimization-1/#gd)) to train the network. Minibatch gradient descent typically performs better in practice. \n",
    "2. We used a fixed learning rate $\\epsilon$ for gradient descent. Implement an annealing schedule for the gradient descent learning rate ([more info](http://cs231n.github.io/neural-networks-3/#anneal)). \n",
    "3. We used a $\\tanh$ activation function for our hidden layer. Experiment with other activation functions (some are mentioned above). Note that changing the activation function also means changing the backpropagation derivative.\n",
    "\n",
    "**Evaluation**: Use print_loss option and show the model actually train. \n",
    "\n",
    "---"
   ]
  },
  {
   "cell_type": "code",
   "execution_count": 187,
   "metadata": {},
   "outputs": [
    {
     "name": "stdout",
     "output_type": "stream",
     "text": [
      " TODO \n"
     ]
    }
   ],
   "source": [
    "print(__doc__)\n",
    "\n",
    "# hyperparameters setting (2 hidden layers deep neural network)\n",
    "hd1 = 10 #hidden layer 1 dimension\n",
    "hd2 = 10\n",
    "epsilon = 0.01\n",
    "reg_lambda = 0.01\n",
    "iteration = 1000\n",
    "nn_input_dim = 784 # input layer dimensionality\n",
    "nn_output_dim = 10 # output layer dimensionality\n",
    "\n",
    "#layer = {'X' : h1, 'W' : W1, 'b' : b1, 'g' : ReLU}\n",
    "\n",
    "#activation function\n",
    "def ReLU(input) :\n",
    "    return np.maximum(input, 0)\n",
    "\n",
    "def tanh(input) :\n",
    "    return np.tanh(input)\n",
    "\n",
    "def softmax(input) :\n",
    "    a = np.exp(input)\n",
    "    probs = a / np.sum(a, axis = 1, keepdims = True)\n",
    "    return probs\n",
    "\n",
    "#derivative of ReLU\n",
    "def d_ReLU(input) :\n",
    "    return (input>0) * 1\n",
    "\n",
    "def d_tanh(input) :\n",
    "    return 1-tanh(input)**2\n",
    "\n",
    "#feedforward propagation : a(l) -> z(l) -> a(l+1)\n",
    "def one_layer_forward_prop(layer) :\n",
    "    x = layer['X']\n",
    "    W = layer['W']\n",
    "    b = layer['b']\n",
    "    g = layer['g']\n",
    "    \n",
    "    z = x.dot(W) + b\n",
    "    a = g(z)\n",
    "    return z, a\n",
    "\n",
    "#backprop and update\n",
    "def one_layer_back_prop(layer, dz, batch_size) :\n",
    "    x = layer['X']\n",
    "    W = layer['W']\n",
    "    b = layer['b']\n",
    "    g = layer['g']\n",
    "    \n",
    "    db = np.sum(dz, axis = 0, keepdims = True) / batch_size\n",
    "    dW = np.dot(x.T, dz) / batch_size\n",
    "    \n",
    "    # Add regularization terms (b don't have regularization terms)\n",
    "    dW += reg_lambda * W\n",
    "\n",
    "    # Gradient descent parameter update\n",
    "    W += -epsilon * dW\n",
    "    b += -epsilon * db\n",
    "                \n",
    "    dx = np.dot(dz, W.T)\n",
    "    return dx\n",
    "    \n",
    "def calculate_loss(model, probs, labels):\n",
    "    # Calculating the loss\n",
    "    data_loss = np.sum(labels * np.log(probs))\n",
    "    # corect_logprobs = -np.log([probs[i,np.nonzero(train_labels)[(1)][i].astype('int64')] for i in range(mb)])\n",
    "    #data_loss = np.sum(loss)\n",
    "    # Add regulatization term to loss (optional)\n",
    "    data_loss += reg_lambda/2 * (np.sum(np.square(model['W1'])) + np.sum(np.square(model['W2']))+ np.sum(np.square(model['W3'])))\n",
    "    return 1./num_examples * data_loss"
   ]
  },
  {
   "cell_type": "code",
   "execution_count": 144,
   "metadata": {},
   "outputs": [
    {
     "name": "stdout",
     "output_type": "stream",
     "text": [
      "[[0.2 0.  0. ]\n",
      " [0.  0.  0.3]]\n",
      "0.5\n",
      "[[0.57611688 0.21194156 0.21194156]\n",
      " [0.21194156 0.21194156 0.57611688]]\n"
     ]
    }
   ],
   "source": [
    "## 연습장\n",
    "#label = train_labels[0:2,0:3]\n",
    "label = np.array([[1, 0, 0], [0,0,1]])\n",
    "probs = np.array([[0.2, 0.4, 0.4],[0.3,0.4,0.3]])\n",
    "\n",
    "print(label*probs)\n",
    "print(np.sum(label * probs).astype('float32'))\n",
    "\n",
    "print(softmax(label))"
   ]
  },
  {
   "cell_type": "code",
   "execution_count": 185,
   "metadata": {},
   "outputs": [],
   "source": [
    "def randomize(dataset, labels, batch_size):\n",
    "    permutation = np.random.permutation(labels.shape[0])\n",
    "    shuffled_labels = labels[permutation]\n",
    "    shuffled_labels = shuffled_labels[:batch_size]\n",
    "    shuffled_dataset = dataset[permutation]\n",
    "    shuffled_dataset = shuffled_dataset[:batch_size]\n",
    "    return shuffled_dataset, shuffled_labels\n",
    "\n",
    "def accuracy(model, y_data, y_label) :\n",
    "    W1 = model['W1']\n",
    "    W2 = model['W2']\n",
    "    W3 = model['W3']\n",
    "    b1 = model['b1']\n",
    "    b2 = model['b2']\n",
    "    b3 = model['b3']\n",
    "    \n",
    "    layer1 = {'X' : y_data, 'W' : W1, 'b' : b1, 'g' : ReLU}\n",
    "    z1, a1 = one_layer_forward_prop(layer1)\n",
    "    layer2 = {'X' : a1, 'W' : W2, 'b' : b2, 'g' : ReLU}\n",
    "    z2, a2 = one_layer_forward_prop(layer2)\n",
    "    layer3 = {'X' : a2, 'W' : W3, 'b' : b3, 'g' : softmax}       \n",
    "    z3, out = one_layer_forward_prop(layer3)    \n",
    "    \n",
    "    model = np.argmax(out, axis = 1)\n",
    "    label = np.argmax(y_label, axis = 1)\n",
    "    #print(model, label)\n",
    "    eq = np.equal(model, label)\n",
    "    return np.mean(eq)\n",
    "\n",
    "def dnn_model(hd1, hd2, iteration, minibatch_size, print_loss=False):\n",
    "    \n",
    "    nn_hdim1 = hd1\n",
    "    nn_hdim2 = hd2\n",
    "    mb = minibatch_size\n",
    "    \n",
    "    # Initialize the parameters to random values. We need to learn these.\n",
    "    np.random.seed(0)\n",
    "    #weight initialization for each activation function\n",
    "    W1 = np.random.randn(nn_input_dim, nn_hdim1) / np.sqrt(nn_input_dim/2)\n",
    "    b1 = np.zeros((1, nn_hdim1))\n",
    "    W2 = np.random.randn(nn_hdim1, nn_hdim2) / np.sqrt(nn_hdim1/2)\n",
    "    b2 = np.zeros((1, nn_hdim2))    \n",
    "    W3 = np.random.randn(nn_hdim2, nn_output_dim) / np.sqrt(nn_hdim2/2)\n",
    "    b3 = np.zeros((1, nn_output_dim))\n",
    "    \n",
    "    model = {}\n",
    "    train_acc = []\n",
    "    test_acc = []\n",
    "    #question : minibatch를 할 때 매 iteration마다 무작위로 선정?\n",
    "    for i in range(iteration) :\n",
    "        r_train_dataset, r_train_labels = randomize(train_dataset, train_labels, mb)\n",
    "        r_test_dataset, r_test_labels = randomize(test_dataset, test_labels, 1000)\n",
    "        \n",
    "        #input layer -> hidden layer 1 -> hidden_layer2 -> output layer\n",
    "        layer1 = {'X' : r_train_dataset, 'W' : W1, 'b' : b1, 'g' : ReLU}\n",
    "        z1, a1 = one_layer_forward_prop(layer1)\n",
    "        layer2 = {'X' : a1, 'W' : W2, 'b' : b2, 'g' : ReLU}\n",
    "        z2, a2 = one_layer_forward_prop(layer2)\n",
    "        layer3 = {'X' : a2, 'W' : W3, 'b' : b3, 'g' : softmax}       \n",
    "        z3, out = one_layer_forward_prop(layer3)\n",
    "        \n",
    "        #back-prop & update\n",
    "        dz3 = out - r_train_labels\n",
    "        da2 = one_layer_back_prop(layer3, dz3, mb)\n",
    "        dz2 = da2 * d_ReLU(z2)\n",
    "        #dz2 = da2 * d_tanh(z2)\n",
    "        da1 = one_layer_back_prop(layer2, dz2, mb)\n",
    "        dz1 = da1 * d_ReLU(z1)\n",
    "        #dz1 = da2 * d_tanh(z1)\n",
    "        dx = one_layer_back_prop(layer1, dz1, mb)\n",
    "        \n",
    "        model = {'W1': W1, 'W2': W2, 'W3': W3, 'b1': b1, 'b2': b2, 'b3': b3 }\n",
    "        \n",
    "        if print_loss and i % 500 ==0:\n",
    "            #print(out[0])\n",
    "            print(\"Loss after iteration %d: %.4f\" % (i, calculate_loss(model, out, r_train_labels)))\n",
    "            tr_acc = accuracy(model, r_train_dataset, r_train_labels)\n",
    "            te_acc = accuracy(model, r_test_dataset, r_test_labels)\n",
    "            train_acc.append(tr_acc)\n",
    "            test_acc.append(te_acc)\n",
    "            print(\"Train Accuracy after iteration %d: %.4f\" % (i, tr_acc))\n",
    "            print(\"Test Accuracy after iteration %d: %.4f\\n\" % (i, te_acc))\n",
    "    \n",
    "    plt.figure()\n",
    "    x = [(i+1) for i in range(10)]\n",
    "    plt.plot(x,train_acc, label = 'train accuracy')\n",
    "    plt.plot(x,test_acc, label = 'test accuracy')\n",
    "    \n",
    "    plt.xlabel('iteration')\n",
    "    plt.ylabel('Accuarcy')\n",
    "    plt.legend()\n",
    "    plt.show()\n",
    "    \n",
    "    return model"
   ]
  },
  {
   "cell_type": "markdown",
   "metadata": {},
   "source": [
    "## DNN with 2 hidden layers(ReLU)"
   ]
  },
  {
   "cell_type": "code",
   "execution_count": 178,
   "metadata": {},
   "outputs": [
    {
     "name": "stdout",
     "output_type": "stream",
     "text": [
      "Loss after iteration 0: -0.1161\n",
      "Train Accuracy after iteration 0: 0.0800\n",
      "Test Accuracy after iteration 0: 0.0900\n",
      "\n",
      "Loss after iteration 500: -0.0770\n",
      "Train Accuracy after iteration 500: 0.5600\n",
      "Test Accuracy after iteration 500: 0.6100\n",
      "\n",
      "Loss after iteration 1000: -0.0578\n",
      "Train Accuracy after iteration 1000: 0.6200\n",
      "Test Accuracy after iteration 1000: 0.7100\n",
      "\n",
      "Loss after iteration 1500: -0.0334\n",
      "Train Accuracy after iteration 1500: 0.8200\n",
      "Test Accuracy after iteration 1500: 0.7800\n",
      "\n",
      "Loss after iteration 2000: -0.0347\n",
      "Train Accuracy after iteration 2000: 0.8200\n",
      "Test Accuracy after iteration 2000: 0.8500\n",
      "\n",
      "Loss after iteration 2500: -0.0332\n",
      "Train Accuracy after iteration 2500: 0.8400\n",
      "Test Accuracy after iteration 2500: 0.8600\n",
      "\n",
      "Loss after iteration 3000: -0.0274\n",
      "Train Accuracy after iteration 3000: 0.8500\n",
      "Test Accuracy after iteration 3000: 0.8300\n",
      "\n",
      "Loss after iteration 3500: -0.0370\n",
      "Train Accuracy after iteration 3500: 0.8000\n",
      "Test Accuracy after iteration 3500: 0.8400\n",
      "\n",
      "Loss after iteration 4000: -0.0239\n",
      "Train Accuracy after iteration 4000: 0.8600\n",
      "Test Accuracy after iteration 4000: 0.8000\n",
      "\n",
      "Loss after iteration 4500: -0.0229\n",
      "Train Accuracy after iteration 4500: 0.8900\n",
      "Test Accuracy after iteration 4500: 0.8400\n",
      "\n"
     ]
    },
    {
     "data": {
      "image/png": "[encoded data removed]",
      "text/plain": [
       "<Figure size 432x288 with 1 Axes>"
      ]
     },
     "metadata": {
      "needs_background": "light"
     },
     "output_type": "display_data"
    }
   ],
   "source": [
    "# weight initializatoin with / fan_in\n",
    "#train_dataset 2000 / test_dataset 100\n",
    "model = dnn_model(hd1, hd2, iteration = 5000, minibatch_size = 100, print_loss = True)"
   ]
  },
  {
   "cell_type": "code",
   "execution_count": 180,
   "metadata": {},
   "outputs": [
    {
     "name": "stdout",
     "output_type": "stream",
     "text": [
      "Loss after iteration 0: -0.1198\n",
      "Train Accuracy after iteration 0: 0.0800\n",
      "Test Accuracy after iteration 0: 0.0900\n",
      "\n",
      "Loss after iteration 500: -0.0616\n",
      "Train Accuracy after iteration 500: 0.6400\n",
      "Test Accuracy after iteration 500: 0.6700\n",
      "\n",
      "Loss after iteration 1000: -0.0497\n",
      "Train Accuracy after iteration 1000: 0.6600\n",
      "Test Accuracy after iteration 1000: 0.7800\n",
      "\n",
      "Loss after iteration 1500: -0.0302\n",
      "Train Accuracy after iteration 1500: 0.8400\n",
      "Test Accuracy after iteration 1500: 0.8000\n",
      "\n",
      "Loss after iteration 2000: -0.0344\n",
      "Train Accuracy after iteration 2000: 0.8300\n",
      "Test Accuracy after iteration 2000: 0.8400\n",
      "\n",
      "Loss after iteration 2500: -0.0300\n",
      "Train Accuracy after iteration 2500: 0.8300\n",
      "Test Accuracy after iteration 2500: 0.8700\n",
      "\n",
      "Loss after iteration 3000: -0.0267\n",
      "Train Accuracy after iteration 3000: 0.8300\n",
      "Test Accuracy after iteration 3000: 0.8400\n",
      "\n",
      "Loss after iteration 3500: -0.0343\n",
      "Train Accuracy after iteration 3500: 0.8100\n",
      "Test Accuracy after iteration 3500: 0.8400\n",
      "\n",
      "Loss after iteration 4000: -0.0229\n",
      "Train Accuracy after iteration 4000: 0.8900\n",
      "Test Accuracy after iteration 4000: 0.8000\n",
      "\n",
      "Loss after iteration 4500: -0.0212\n",
      "Train Accuracy after iteration 4500: 0.9200\n",
      "Test Accuracy after iteration 4500: 0.8600\n",
      "\n"
     ]
    },
    {
     "data": {
      "image/png": "[encoded data removed]",
      "text/plain": [
       "<Figure size 432x288 with 1 Axes>"
      ]
     },
     "metadata": {
      "needs_background": "light"
     },
     "output_type": "display_data"
    }
   ],
   "source": [
    "# weight initializatoin with He initialization (/ fan_in/2)\n",
    "#train_dataset 2000 / test_dataset 100\n",
    "#epoch 5000*100/2000 = 250\n",
    "model = dnn_model(hd1, hd2, iteration = 5000, minibatch_size = 100, print_loss = True)"
   ]
  },
  {
   "cell_type": "code",
   "execution_count": 186,
   "metadata": {},
   "outputs": [
    {
     "name": "stdout",
     "output_type": "stream",
     "text": [
      "Loss after iteration 0: -0.1198\n",
      "Train Accuracy after iteration 0: 0.0800\n",
      "Test Accuracy after iteration 0: 0.0880\n",
      "\n",
      "Loss after iteration 500: -0.0616\n",
      "Train Accuracy after iteration 500: 0.6400\n",
      "Test Accuracy after iteration 500: 0.6610\n",
      "\n",
      "Loss after iteration 1000: -0.0497\n",
      "Train Accuracy after iteration 1000: 0.6600\n",
      "Test Accuracy after iteration 1000: 0.7730\n",
      "\n",
      "Loss after iteration 1500: -0.0302\n",
      "Train Accuracy after iteration 1500: 0.8400\n",
      "Test Accuracy after iteration 1500: 0.8420\n",
      "\n",
      "Loss after iteration 2000: -0.0344\n",
      "Train Accuracy after iteration 2000: 0.8300\n",
      "Test Accuracy after iteration 2000: 0.8520\n",
      "\n",
      "Loss after iteration 2500: -0.0300\n",
      "Train Accuracy after iteration 2500: 0.8300\n",
      "Test Accuracy after iteration 2500: 0.8370\n",
      "\n",
      "Loss after iteration 3000: -0.0267\n",
      "Train Accuracy after iteration 3000: 0.8300\n",
      "Test Accuracy after iteration 3000: 0.8640\n",
      "\n",
      "Loss after iteration 3500: -0.0343\n",
      "Train Accuracy after iteration 3500: 0.8100\n",
      "Test Accuracy after iteration 3500: 0.8570\n",
      "\n",
      "Loss after iteration 4000: -0.0229\n",
      "Train Accuracy after iteration 4000: 0.8900\n",
      "Test Accuracy after iteration 4000: 0.8570\n",
      "\n",
      "Loss after iteration 4500: -0.0212\n",
      "Train Accuracy after iteration 4500: 0.9200\n",
      "Test Accuracy after iteration 4500: 0.8500\n",
      "\n"
     ]
    },
    {
     "data": {
      "image/png": "[encoded data removed]",
      "text/plain": [
       "<Figure size 432x288 with 1 Axes>"
      ]
     },
     "metadata": {
      "needs_background": "light"
     },
     "output_type": "display_data"
    },
    {
     "name": "stdout",
     "output_type": "stream",
     "text": [
      "Loss after iteration 0: -0.0115\n",
      "Train Accuracy after iteration 0: 0.1000\n",
      "Test Accuracy after iteration 0: 0.0830\n",
      "\n",
      "Loss after iteration 500: -0.0089\n",
      "Train Accuracy after iteration 500: 0.5000\n",
      "Test Accuracy after iteration 500: 0.5500\n",
      "\n",
      "Loss after iteration 1000: -0.0068\n",
      "Train Accuracy after iteration 1000: 0.6000\n",
      "Test Accuracy after iteration 1000: 0.7850\n",
      "\n",
      "Loss after iteration 1500: -0.0043\n",
      "Train Accuracy after iteration 1500: 0.6000\n",
      "Test Accuracy after iteration 1500: 0.7920\n",
      "\n",
      "Loss after iteration 2000: -0.0028\n",
      "Train Accuracy after iteration 2000: 0.9000\n",
      "Test Accuracy after iteration 2000: 0.8280\n",
      "\n",
      "Loss after iteration 2500: -0.0047\n",
      "Train Accuracy after iteration 2500: 0.9000\n",
      "Test Accuracy after iteration 2500: 0.8200\n",
      "\n",
      "Loss after iteration 3000: -0.0053\n",
      "Train Accuracy after iteration 3000: 0.6000\n",
      "Test Accuracy after iteration 3000: 0.8570\n",
      "\n",
      "Loss after iteration 3500: -0.0033\n",
      "Train Accuracy after iteration 3500: 0.7000\n",
      "Test Accuracy after iteration 3500: 0.8380\n",
      "\n",
      "Loss after iteration 4000: -0.0003\n",
      "Train Accuracy after iteration 4000: 1.0000\n",
      "Test Accuracy after iteration 4000: 0.8550\n",
      "\n",
      "Loss after iteration 4500: -0.0025\n",
      "Train Accuracy after iteration 4500: 1.0000\n",
      "Test Accuracy after iteration 4500: 0.8380\n",
      "\n"
     ]
    },
    {
     "data": {
      "image/png": "[encoded data removed]",
      "text/plain": [
       "<Figure size 432x288 with 1 Axes>"
      ]
     },
     "metadata": {
      "needs_background": "light"
     },
     "output_type": "display_data"
    }
   ],
   "source": [
    "#He initialization & minibatch size 10\n",
    "#train_dataset 2000 / test_dataset 1000\n",
    "#epoch 5000*10/2000 = 25\n",
    "model = dnn_model(hd1, hd2, iteration = 5000, minibatch_size = 100, print_loss = True)\n",
    "model = dnn_model(hd1, hd2, iteration = 5000, minibatch_size = 10, print_loss = True)"
   ]
  },
  {
   "cell_type": "markdown",
   "metadata": {},
   "source": [
    "## DNN with 2 hidden layers( )"
   ]
  },
  {
   "cell_type": "code",
   "execution_count": null,
   "metadata": {},
   "outputs": [],
   "source": []
  }
 ],
 "metadata": {
  "colab": {
   "default_view": {},
   "name": "2_fullyconnected.ipynb",
   "provenance": [],
   "version": "0.3.2",
   "views": {}
  },
  "kernelspec": {
   "display_name": "Python 3",
   "language": "python",
   "name": "python3"
  },
  "language_info": {
   "codemirror_mode": {
    "name": "ipython",
    "version": 3
   },
   "file_extension": ".py",
   "mimetype": "text/x-python",
   "name": "python",
   "nbconvert_exporter": "python",
   "pygments_lexer": "ipython3",
   "version": "3.6.6"
  }
 },
 "nbformat": 4,
 "nbformat_minor": 2
}
